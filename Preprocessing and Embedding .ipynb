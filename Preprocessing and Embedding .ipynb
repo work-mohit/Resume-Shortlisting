{
 "cells": [
  {
   "cell_type": "code",
   "execution_count": 1,
   "id": "27dcd88c",
   "metadata": {},
   "outputs": [],
   "source": [
    "import numpy as np \n",
    "import pandas as pd"
   ]
  },
  {
   "cell_type": "code",
   "execution_count": 2,
   "id": "f5a374df",
   "metadata": {},
   "outputs": [],
   "source": [
    "resume_data = pd.read_csv('resume_details.csv')\n",
    "job_descriptions = pd.read_csv('random_job_description.csv')"
   ]
  },
  {
   "cell_type": "code",
   "execution_count": 3,
   "id": "76150edc",
   "metadata": {},
   "outputs": [
    {
     "data": {
      "text/html": [
       "<div>\n",
       "<style scoped>\n",
       "    .dataframe tbody tr th:only-of-type {\n",
       "        vertical-align: middle;\n",
       "    }\n",
       "\n",
       "    .dataframe tbody tr th {\n",
       "        vertical-align: top;\n",
       "    }\n",
       "\n",
       "    .dataframe thead th {\n",
       "        text-align: right;\n",
       "    }\n",
       "</style>\n",
       "<table border=\"1\" class=\"dataframe\">\n",
       "  <thead>\n",
       "    <tr style=\"text-align: right;\">\n",
       "      <th></th>\n",
       "      <th>resume_id</th>\n",
       "      <th>Category</th>\n",
       "      <th>Skills</th>\n",
       "      <th>Education</th>\n",
       "    </tr>\n",
       "  </thead>\n",
       "  <tbody>\n",
       "    <tr>\n",
       "      <th>0</th>\n",
       "      <td>10554236</td>\n",
       "      <td>accountant accountant</td>\n",
       "      <td>accounting general accounting accounts payable...</td>\n",
       "      <td>northern community college 1994 associate acco...</td>\n",
       "    </tr>\n",
       "    <tr>\n",
       "      <th>1</th>\n",
       "      <td>10674770</td>\n",
       "      <td>accountant staff accountant</td>\n",
       "      <td>accounting accounts payable accounts receivabl...</td>\n",
       "      <td>bachelor science accounting 2010 university no...</td>\n",
       "    </tr>\n",
       "    <tr>\n",
       "      <th>2</th>\n",
       "      <td>11163645</td>\n",
       "      <td>accountant accountant</td>\n",
       "      <td>accounts payables accounts receivables account...</td>\n",
       "      <td>computer applications specialist certificate p...</td>\n",
       "    </tr>\n",
       "    <tr>\n",
       "      <th>3</th>\n",
       "      <td>11759079</td>\n",
       "      <td>accountant senior accountant</td>\n",
       "      <td>accounting balance sheet budgets client client...</td>\n",
       "      <td>emory university goizueta business school 5 20...</td>\n",
       "    </tr>\n",
       "    <tr>\n",
       "      <th>4</th>\n",
       "      <td>12065211</td>\n",
       "      <td>accountant senior accountant</td>\n",
       "      <td>aderantcms excel quickbooks pro sql access pea...</td>\n",
       "      <td>bachelor business administration accounting au...</td>\n",
       "    </tr>\n",
       "  </tbody>\n",
       "</table>\n",
       "</div>"
      ],
      "text/plain": [
       "   resume_id                      Category  \\\n",
       "0   10554236         accountant accountant   \n",
       "1   10674770   accountant staff accountant   \n",
       "2   11163645         accountant accountant   \n",
       "3   11759079  accountant senior accountant   \n",
       "4   12065211  accountant senior accountant   \n",
       "\n",
       "                                              Skills  \\\n",
       "0  accounting general accounting accounts payable...   \n",
       "1  accounting accounts payable accounts receivabl...   \n",
       "2  accounts payables accounts receivables account...   \n",
       "3  accounting balance sheet budgets client client...   \n",
       "4  aderantcms excel quickbooks pro sql access pea...   \n",
       "\n",
       "                                           Education  \n",
       "0  northern community college 1994 associate acco...  \n",
       "1  bachelor science accounting 2010 university no...  \n",
       "2  computer applications specialist certificate p...  \n",
       "3  emory university goizueta business school 5 20...  \n",
       "4  bachelor business administration accounting au...  "
      ]
     },
     "execution_count": 3,
     "metadata": {},
     "output_type": "execute_result"
    }
   ],
   "source": [
    "resume_data.head()"
   ]
  },
  {
   "cell_type": "code",
   "execution_count": null,
   "id": "5e94ca2c",
   "metadata": {},
   "outputs": [],
   "source": []
  },
  {
   "cell_type": "code",
   "execution_count": null,
   "id": "97e19972",
   "metadata": {},
   "outputs": [],
   "source": []
  }
 ],
 "metadata": {
  "kernelspec": {
   "display_name": "tf-gpu",
   "language": "python",
   "name": "tf-gpu"
  },
  "language_info": {
   "codemirror_mode": {
    "name": "ipython",
    "version": 3
   },
   "file_extension": ".py",
   "mimetype": "text/x-python",
   "name": "python",
   "nbconvert_exporter": "python",
   "pygments_lexer": "ipython3",
   "version": "3.10.8"
  }
 },
 "nbformat": 4,
 "nbformat_minor": 5
}
